{
 "cells": [
  {
   "cell_type": "markdown",
   "id": "14767526",
   "metadata": {},
   "source": [
    "# Introducción al Curso de Redes Neuronales Profundas\n",
    "\n",
    "```{admonition} Objetivo del Curso\n",
    "Este curso proporciona una comprensión profunda de las redes neuronales, desde sus fundamentos hasta sus aplicaciones avanzadas. Exploraremos cómo diseñar, entrenar e implementar redes neuronales utilizando herramientas modernas como TensorFlow y Keras.\n",
    "```\n",
    "\n",
    "## Contenido del Curso\n",
    "\n",
    "\n",
    "\n",
    "## **Unidad 1: Introducción a Redes Neuronales**\n",
    "- Conceptos básicos: Definición y aplicaciones.\n",
    "- Perceptrón multicapa (MLP).\n",
    "- Funciones de activación y capas ocultas.\n",
    "- Comparación con modelos lineales y no lineales.\n",
    "- Implementación en TensorFlow/Keras.\n",
    "\n",
    "## **Unidad 2: Regularización en Redes Neuronales**\n",
    "- Sobreajuste y subajuste.\n",
    "- Regularización L1 y L2.\n",
    "- Dropout y Batch Normalization.\n",
    "- Data augmentation.\n",
    "- Ejemplo práctico en Keras.\n",
    "\n",
    "## **Unidad 3: Optimización en Redes Profundas**\n",
    "- Descenso de gradiente y variantes (SGD, Adam, RMSprop).\n",
    "- Backpropagation y cálculo del gradiente.\n",
    "- Funciones de costo y ajuste de hiperparámetros.\n",
    "- Problemas de optimización: desvanecimiento y explosión del gradiente.\n",
    "\n",
    "## **Unidad 4: Redes Convolucionales (CNNs)**\n",
    "- Operaciones convolucionales y capas de pooling.\n",
    "- Arquitecturas populares (LeNet, AlexNet, VGG, ResNet).\n",
    "- Aplicaciones en visión por computadora.\n",
    "- Implementación de una CNN en TensorFlow/Keras.\n",
    "\n",
    "## **Unidad 5: Redes Recurrentes y Modelado de Secuencias**\n",
    "- RNNs, LSTMs y GRUs.\n",
    "- Aplicaciones en series temporales y NLP.\n",
    "- Problemas de largo plazo: desvanecimiento del gradiente.\n",
    "- Implementación de una RNN para clasificación de texto.\n",
    "\n",
    "## **Unidad 6: Modelos de Representación y Autoencoders**\n",
    "- Redes autoencoder (AE) y variacionales (VAE).\n",
    "- Aprendizaje de representaciones y embeddings.\n",
    "- Aplicaciones en reducción de dimensionalidad y generación de datos.\n",
    "- Implementación de un autoencoder en TensorFlow/Keras.\n",
    "\n",
    "## **Unidad 7: Métodos Probabilísticos y Generativos**\n",
    "- Modelos gráficos probabilísticos en deep learning.\n",
    "- Métodos Monte Carlo para inferencia aproximada.\n",
    "- Modelos generativos: GANs y VAEs.\n",
    "- Implementación de una GAN en TensorFlow/Keras.\n",
    "\n",
    "## **Unidad 8: Aplicaciones Avanzadas y Tendencias en Deep Learning**\n",
    "- Transfer learning y fine-tuning.\n",
    "- Modelos Transformers y aplicaciones en NLP.\n",
    "- Técnicas avanzadas de optimización e inferencia.\n",
    "- Ética en Inteligencia Artificial.\n",
    "- Implementación de un Transformer básico con Hugging Face.\n",
    "\n",
    "## Evaluación\n",
    "\n",
    "```{admonition} Criterios de Evaluación\n",
    "- **Ejercicios prácticos**: Implementación de redes neuronales en Keras.\n",
    "- **Proyectos finales**: Aplicaciones en visión por computadora, NLP o modelos generativos.\n",
    "- **Análisis de papers**: Avances recientes en deep learning.\n",
    "```\n",
    "\n",
    "\n",
    "## Bibliografía\n",
    "\n",
    "1. Goodfellow, I., Bengio, Y., & Courville, A. (2016). *Deep Learning*. MIT Press.\n",
    "2. Chollet, F. (2017). *Deep Learning with Python*. Manning Publications.\n",
    "3. Notas de clase generadas con una gran ayuda de ChatGPT."
   ]
  }
 ],
 "metadata": {
  "jupytext": {
   "formats": "md:myst",
   "text_representation": {
    "extension": ".md",
    "format_name": "myst"
   }
  },
  "kernelspec": {
   "display_name": "Python 3",
   "language": "python",
   "name": "python3"
  },
  "language_info": {
   "codemirror_mode": {
    "name": "ipython",
    "version": 3
   },
   "file_extension": ".py",
   "mimetype": "text/x-python",
   "name": "python",
   "nbconvert_exporter": "python",
   "pygments_lexer": "ipython3",
   "version": "3.11.11"
  },
  "source_map": [
   11
  ]
 },
 "nbformat": 4,
 "nbformat_minor": 5
}