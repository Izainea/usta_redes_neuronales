{
 "cells": [
  {
   "cell_type": "markdown",
   "id": "7f17a009",
   "metadata": {},
   "source": [
    "\n",
    "# Introducción a las Redes Neuronales\n",
    "\n",
    "En esta sección exploraremos los fundamentos de las **redes neuronales**. Se estudiará la inspiración biológica detrás de estos modelos, se definirá qué es una neurona artificial y se describirá la estructura básica que conforma una red neuronal, incluyendo las capas de entrada, ocultas y salida.\n",
    "\n",
    "Esta introducción te proporcionará una base sólida para comprender los conceptos que se desarrollarán en secciones posteriores.\n"
   ]
  },
  {
   "cell_type": "markdown",
   "id": "20a517ae",
   "metadata": {},
   "source": [
    "\n",
    "## Inspiración Biológica y Definición de Neuronas Artificiales\n",
    "\n",
    "El **cerebro humano** está compuesto por miles de millones de neuronas biológicas que se comunican a través de señales eléctricas y químicas. Cada neurona procesa la información que recibe y transmite señales a otras neuronas, formando redes complejas que dan lugar a procesos cognitivos como la percepción, la memoria y el aprendizaje.\n",
    "\n",
    "Las **neuronas artificiales** se inspiran en este modelo biológico, pero lo simplifican en una estructura matemática que puede ser implementada en una computadora. Una neurona artificial realiza las siguientes operaciones:\n",
    "\n",
    "1. **Recepción de entradas:** Recibe múltiples valores, cada uno representando una característica o dato.\n",
    "2. **Ponderación:** A cada entrada se le asigna un **peso** que indica su relevancia en el proceso.\n",
    "3. **Suma y sesgo:** Se realiza una combinación lineal de las entradas ponderadas y se añade un **sesgo** para ajustar el umbral de activación.\n",
    "4. **Función de activación:** Se aplica una función (por ejemplo, la función sigmoide) para introducir no linealidad y generar la salida final.\n",
    "\n",
    "La operación se expresa matemáticamente como:\n",
    "\n",
    "$$\n",
    "z = \\sum_{i=1}^{n} w_i \\, x_i + b\n",
    "$$\n",
    "\n",
    "donde:\n",
    "- $x_i$ son las entradas,\n",
    "- $w_i$ son los pesos,\n",
    "- $b$ es el sesgo,\n",
    "- $n$ es el número de entradas.\n",
    "\n",
    "La salida final se obtiene al aplicar una función de activación $f(z)$:\n",
    "\n",
    "$$\n",
    "a = f(z)\n",
    "$$\n",
    "\n",
    "::: danger Advertencia\n",
    "Es importante destacar que, aunque las neuronas artificiales se inspiran en el cerebro, son una **simplificación** extrema de la complejidad biológica. No representan la totalidad de los procesos neuronales reales.\n",
    ":::\n"
   ]
  },
  {
   "cell_type": "markdown",
   "id": "336caae7",
   "metadata": {},
   "source": [
    "\n",
    "## Estructura de una Red Neuronal\n",
    "\n",
    "Una red neuronal se compone de varias **capas** de neuronas conectadas entre sí. Cada capa cumple una función específica:\n",
    "\n",
    "- **Capa de Entrada:**  \n",
    "  Recibe los datos sin procesar. Cada neurona en esta capa corresponde a una característica o variable del conjunto de datos.\n",
    "\n",
    "- **Capas Ocultas:**  \n",
    "  Una o más capas intermedias que transforman la información recibida. En estas capas se extraen características y patrones complejos a través de combinaciones lineales y funciones de activación.  \n",
    "  ::: tip Consejo\n",
    "  La cantidad y el tamaño de las capas ocultas son hiperparámetros críticos. Experimenta con distintos números para encontrar la mejor arquitectura para tu problema.\n",
    "  :::\n",
    "\n",
    "- **Capa de Salida:**  \n",
    "  Produce la predicción final. El número de neuronas y la función de activación de esta capa dependen del tipo de tarea (por ejemplo, clasificación, regresión, etc.).  \n",
    "  ::: note Nota\n",
    "  Para clasificación binaria, se suele utilizar una única neurona con activación sigmoide. Para clasificación multiclase, se utiliza una capa con tantas neuronas como clases, junto con la función de activación softmax.\n",
    "  :::\n"
   ]
  },
  {
   "cell_type": "markdown",
   "id": "d5102dd1",
   "metadata": {},
   "source": [
    "\n",
    "## Ejemplo Práctico: Cálculo de la Salida de una Neurona Artificial\n",
    "\n",
    "A continuación, se muestra un ejemplo en Python que ilustra cómo se calcula la salida de una neurona artificial. Utilizaremos la **función de activación sigmoide**, la cual transforma el valor obtenido de la combinación lineal en un número entre 0 y 1.\n",
    "\n",
    "::: danger Advertencia\n",
    "El ejemplo que sigue es una implementación simplificada y didáctica. En aplicaciones reales, se utilizan frameworks que optimizan y generalizan estos cálculos.\n",
    ":::\n"
   ]
  },
  {
   "cell_type": "code",
   "execution_count": 1,
   "id": "b837d04b",
   "metadata": {},
   "outputs": [
    {
     "name": "stdout",
     "output_type": "stream",
     "text": [
      "Valor de z (combinación lineal): 0.19\n",
      "Salida de la neurona (activación sigmoide): 0.5473576181430894\n"
     ]
    }
   ],
   "source": [
    "# Importamos NumPy para realizar operaciones numéricas\n",
    "import numpy as np\n",
    "\n",
    "# Definición de las entradas (por ejemplo, características de un dato)\n",
    "x = np.array([0.5, -0.2, 0.1])\n",
    "\n",
    "# Definición de los pesos asociados a cada entrada\n",
    "w = np.array([0.4, 0.3, -0.5])\n",
    "\n",
    "# Definición del sesgo\n",
    "b = 0.1\n",
    "\n",
    "# Cálculo de la combinación lineal: z = w.x + b\n",
    "z = np.dot(x, w) + b\n",
    "print(\"Valor de z (combinación lineal):\", z)\n",
    "\n",
    "# Definición de la función de activación sigmoide\n",
    "def sigmoid(z):\n",
    "    return 1 / (1 + np.exp(-z))\n",
    "\n",
    "# Cálculo de la salida de la neurona aplicando la función sigmoide\n",
    "a = sigmoid(z)\n",
    "print(\"Salida de la neurona (activación sigmoide):\", a)\n"
   ]
  },
  {
   "cell_type": "markdown",
   "id": "cd707c32",
   "metadata": {},
   "source": [
    "\n",
    "Las **redes neuronales** han transformado el campo del aprendizaje automático al permitir la modelación de relaciones altamente complejas en los datos. La **inspiración biológica** nos ayuda a visualizar cómo se estructura el procesamiento de la información en el cerebro, mientras que la **definición matemática** de una neurona artificial nos proporciona las herramientas para implementar estos modelos en la práctica.\n",
    "\n",
    "::: tip Consejo Final\n",
    "Experimenta modificando los valores de las entradas, los pesos y el sesgo en el ejemplo práctico. Observar cómo varía la salida de la neurona te permitirá comprender de forma más profunda el proceso de propagación en una red neuronal.\n",
    ":::\n",
    "\n",
    "Esta sección sienta las bases para adentrarnos en temas más avanzados, como el entrenamiento de redes mediante gradiente descendente y la implementación de arquitecturas más complejas.\n"
   ]
  }
 ],
 "metadata": {
  "language_info": {
   "codemirror_mode": {
    "name": "ipython",
    "version": 3
   },
   "file_extension": ".py",
   "mimetype": "text/x-python",
   "name": "python",
   "nbconvert_exporter": "python",
   "pygments_lexer": "ipython3",
   "version": "3.11.11"
  }
 },
 "nbformat": 4,
 "nbformat_minor": 5
}